{
 "cells": [
  {
   "cell_type": "code",
   "execution_count": 4,
   "metadata": {},
   "outputs": [],
   "source": [
    "import pandas as pd\n",
    "import numpy as np\n",
    "import matplotlib.pyplot as plt\n",
    "import seaborn as sns\n",
    "import plotly.express as px\n",
    "import plotly.graph_objects as go\n",
    "\n",
    "import warnings\n",
    "warnings.filterwarnings('ignore')"
   ]
  },
  {
   "cell_type": "code",
   "execution_count": 5,
   "metadata": {},
   "outputs": [],
   "source": [
    "df = pd.read_csv(\"kaggle/input/healthcare_dataset.csv\")"
   ]
  },
  {
   "cell_type": "code",
   "execution_count": 6,
   "metadata": {},
   "outputs": [
    {
     "data": {
      "text/html": [
       "<div>\n",
       "<style scoped>\n",
       "    .dataframe tbody tr th:only-of-type {\n",
       "        vertical-align: middle;\n",
       "    }\n",
       "\n",
       "    .dataframe tbody tr th {\n",
       "        vertical-align: top;\n",
       "    }\n",
       "\n",
       "    .dataframe thead th {\n",
       "        text-align: right;\n",
       "    }\n",
       "</style>\n",
       "<table border=\"1\" class=\"dataframe\">\n",
       "  <thead>\n",
       "    <tr style=\"text-align: right;\">\n",
       "      <th></th>\n",
       "      <th>Name</th>\n",
       "      <th>Age</th>\n",
       "      <th>Gender</th>\n",
       "      <th>Blood Type</th>\n",
       "      <th>Medical Condition</th>\n",
       "      <th>Date of Admission</th>\n",
       "      <th>Doctor</th>\n",
       "      <th>Hospital</th>\n",
       "      <th>Insurance Provider</th>\n",
       "      <th>Billing Amount</th>\n",
       "      <th>Room Number</th>\n",
       "      <th>Admission Type</th>\n",
       "      <th>Discharge Date</th>\n",
       "      <th>Medication</th>\n",
       "      <th>Test Results</th>\n",
       "    </tr>\n",
       "  </thead>\n",
       "  <tbody>\n",
       "    <tr>\n",
       "      <th>0</th>\n",
       "      <td>Bobby JacksOn</td>\n",
       "      <td>30</td>\n",
       "      <td>Male</td>\n",
       "      <td>B-</td>\n",
       "      <td>Cancer</td>\n",
       "      <td>2024-01-31</td>\n",
       "      <td>Matthew Smith</td>\n",
       "      <td>Sons and Miller</td>\n",
       "      <td>Blue Cross</td>\n",
       "      <td>18856.281306</td>\n",
       "      <td>328</td>\n",
       "      <td>Urgent</td>\n",
       "      <td>2024-02-02</td>\n",
       "      <td>Paracetamol</td>\n",
       "      <td>Normal</td>\n",
       "    </tr>\n",
       "    <tr>\n",
       "      <th>1</th>\n",
       "      <td>LesLie TErRy</td>\n",
       "      <td>62</td>\n",
       "      <td>Male</td>\n",
       "      <td>A+</td>\n",
       "      <td>Obesity</td>\n",
       "      <td>2019-08-20</td>\n",
       "      <td>Samantha Davies</td>\n",
       "      <td>Kim Inc</td>\n",
       "      <td>Medicare</td>\n",
       "      <td>33643.327287</td>\n",
       "      <td>265</td>\n",
       "      <td>Emergency</td>\n",
       "      <td>2019-08-26</td>\n",
       "      <td>Ibuprofen</td>\n",
       "      <td>Inconclusive</td>\n",
       "    </tr>\n",
       "    <tr>\n",
       "      <th>2</th>\n",
       "      <td>DaNnY sMitH</td>\n",
       "      <td>76</td>\n",
       "      <td>Female</td>\n",
       "      <td>A-</td>\n",
       "      <td>Obesity</td>\n",
       "      <td>2022-09-22</td>\n",
       "      <td>Tiffany Mitchell</td>\n",
       "      <td>Cook PLC</td>\n",
       "      <td>Aetna</td>\n",
       "      <td>27955.096079</td>\n",
       "      <td>205</td>\n",
       "      <td>Emergency</td>\n",
       "      <td>2022-10-07</td>\n",
       "      <td>Aspirin</td>\n",
       "      <td>Normal</td>\n",
       "    </tr>\n",
       "    <tr>\n",
       "      <th>3</th>\n",
       "      <td>andrEw waTtS</td>\n",
       "      <td>28</td>\n",
       "      <td>Female</td>\n",
       "      <td>O+</td>\n",
       "      <td>Diabetes</td>\n",
       "      <td>2020-11-18</td>\n",
       "      <td>Kevin Wells</td>\n",
       "      <td>Hernandez Rogers and Vang,</td>\n",
       "      <td>Medicare</td>\n",
       "      <td>37909.782410</td>\n",
       "      <td>450</td>\n",
       "      <td>Elective</td>\n",
       "      <td>2020-12-18</td>\n",
       "      <td>Ibuprofen</td>\n",
       "      <td>Abnormal</td>\n",
       "    </tr>\n",
       "    <tr>\n",
       "      <th>4</th>\n",
       "      <td>adrIENNE bEll</td>\n",
       "      <td>43</td>\n",
       "      <td>Female</td>\n",
       "      <td>AB+</td>\n",
       "      <td>Cancer</td>\n",
       "      <td>2022-09-19</td>\n",
       "      <td>Kathleen Hanna</td>\n",
       "      <td>White-White</td>\n",
       "      <td>Aetna</td>\n",
       "      <td>14238.317814</td>\n",
       "      <td>458</td>\n",
       "      <td>Urgent</td>\n",
       "      <td>2022-10-09</td>\n",
       "      <td>Penicillin</td>\n",
       "      <td>Abnormal</td>\n",
       "    </tr>\n",
       "  </tbody>\n",
       "</table>\n",
       "</div>"
      ],
      "text/plain": [
       "            Name  Age  Gender Blood Type Medical Condition Date of Admission  \\\n",
       "0  Bobby JacksOn   30    Male         B-            Cancer        2024-01-31   \n",
       "1   LesLie TErRy   62    Male         A+           Obesity        2019-08-20   \n",
       "2    DaNnY sMitH   76  Female         A-           Obesity        2022-09-22   \n",
       "3   andrEw waTtS   28  Female         O+          Diabetes        2020-11-18   \n",
       "4  adrIENNE bEll   43  Female        AB+            Cancer        2022-09-19   \n",
       "\n",
       "             Doctor                    Hospital Insurance Provider  \\\n",
       "0     Matthew Smith             Sons and Miller         Blue Cross   \n",
       "1   Samantha Davies                     Kim Inc           Medicare   \n",
       "2  Tiffany Mitchell                    Cook PLC              Aetna   \n",
       "3       Kevin Wells  Hernandez Rogers and Vang,           Medicare   \n",
       "4    Kathleen Hanna                 White-White              Aetna   \n",
       "\n",
       "   Billing Amount  Room Number Admission Type Discharge Date   Medication  \\\n",
       "0    18856.281306          328         Urgent     2024-02-02  Paracetamol   \n",
       "1    33643.327287          265      Emergency     2019-08-26    Ibuprofen   \n",
       "2    27955.096079          205      Emergency     2022-10-07      Aspirin   \n",
       "3    37909.782410          450       Elective     2020-12-18    Ibuprofen   \n",
       "4    14238.317814          458         Urgent     2022-10-09   Penicillin   \n",
       "\n",
       "   Test Results  \n",
       "0        Normal  \n",
       "1  Inconclusive  \n",
       "2        Normal  \n",
       "3      Abnormal  \n",
       "4      Abnormal  "
      ]
     },
     "execution_count": 6,
     "metadata": {},
     "output_type": "execute_result"
    }
   ],
   "source": [
    "df.head()"
   ]
  },
  {
   "cell_type": "code",
   "execution_count": 7,
   "metadata": {},
   "outputs": [
    {
     "name": "stdout",
     "output_type": "stream",
     "text": [
      "El conjunto de Datos tiene 55500 filas y 15 columnas.\n"
     ]
    }
   ],
   "source": [
    "print(f\"El conjunto de Datos tiene {df.shape[0]} filas y {df.shape[1]} columnas.\")"
   ]
  },
  {
   "cell_type": "code",
   "execution_count": 8,
   "metadata": {},
   "outputs": [
    {
     "name": "stdout",
     "output_type": "stream",
     "text": [
      "<class 'pandas.core.frame.DataFrame'>\n",
      "RangeIndex: 55500 entries, 0 to 55499\n",
      "Data columns (total 15 columns):\n",
      " #   Column              Non-Null Count  Dtype  \n",
      "---  ------              --------------  -----  \n",
      " 0   Name                55500 non-null  object \n",
      " 1   Age                 55500 non-null  int64  \n",
      " 2   Gender              55500 non-null  object \n",
      " 3   Blood Type          55500 non-null  object \n",
      " 4   Medical Condition   55500 non-null  object \n",
      " 5   Date of Admission   55500 non-null  object \n",
      " 6   Doctor              55500 non-null  object \n",
      " 7   Hospital            55500 non-null  object \n",
      " 8   Insurance Provider  55500 non-null  object \n",
      " 9   Billing Amount      55500 non-null  float64\n",
      " 10  Room Number         55500 non-null  int64  \n",
      " 11  Admission Type      55500 non-null  object \n",
      " 12  Discharge Date      55500 non-null  object \n",
      " 13  Medication          55500 non-null  object \n",
      " 14  Test Results        55500 non-null  object \n",
      "dtypes: float64(1), int64(2), object(12)\n",
      "memory usage: 6.4+ MB\n"
     ]
    }
   ],
   "source": [
    "df.info()"
   ]
  },
  {
   "cell_type": "code",
   "execution_count": 9,
   "metadata": {},
   "outputs": [
    {
     "data": {
      "text/plain": [
       "Name                  0\n",
       "Age                   0\n",
       "Gender                0\n",
       "Blood Type            0\n",
       "Medical Condition     0\n",
       "Date of Admission     0\n",
       "Doctor                0\n",
       "Hospital              0\n",
       "Insurance Provider    0\n",
       "Billing Amount        0\n",
       "Room Number           0\n",
       "Admission Type        0\n",
       "Discharge Date        0\n",
       "Medication            0\n",
       "Test Results          0\n",
       "dtype: int64"
      ]
     },
     "execution_count": 9,
     "metadata": {},
     "output_type": "execute_result"
    }
   ],
   "source": [
    "df.isnull().sum()"
   ]
  },
  {
   "cell_type": "code",
   "execution_count": 10,
   "metadata": {},
   "outputs": [
    {
     "data": {
      "text/html": [
       "<div>\n",
       "<style scoped>\n",
       "    .dataframe tbody tr th:only-of-type {\n",
       "        vertical-align: middle;\n",
       "    }\n",
       "\n",
       "    .dataframe tbody tr th {\n",
       "        vertical-align: top;\n",
       "    }\n",
       "\n",
       "    .dataframe thead th {\n",
       "        text-align: right;\n",
       "    }\n",
       "</style>\n",
       "<table border=\"1\" class=\"dataframe\">\n",
       "  <thead>\n",
       "    <tr style=\"text-align: right;\">\n",
       "      <th></th>\n",
       "      <th>Name</th>\n",
       "      <th>Age</th>\n",
       "      <th>Gender</th>\n",
       "      <th>Blood Type</th>\n",
       "      <th>Medical Condition</th>\n",
       "      <th>Date of Admission</th>\n",
       "      <th>Doctor</th>\n",
       "      <th>Hospital</th>\n",
       "      <th>Insurance Provider</th>\n",
       "      <th>Billing Amount</th>\n",
       "      <th>Room Number</th>\n",
       "      <th>Admission Type</th>\n",
       "      <th>Discharge Date</th>\n",
       "      <th>Medication</th>\n",
       "      <th>Test Results</th>\n",
       "    </tr>\n",
       "  </thead>\n",
       "  <tbody>\n",
       "    <tr>\n",
       "      <th>0</th>\n",
       "      <td>bobby jackson</td>\n",
       "      <td>30</td>\n",
       "      <td>Male</td>\n",
       "      <td>B-</td>\n",
       "      <td>Cancer</td>\n",
       "      <td>2024-01-31</td>\n",
       "      <td>Matthew Smith</td>\n",
       "      <td>Sons and Miller</td>\n",
       "      <td>Blue Cross</td>\n",
       "      <td>18856.281306</td>\n",
       "      <td>328</td>\n",
       "      <td>Urgent</td>\n",
       "      <td>2024-02-02</td>\n",
       "      <td>Paracetamol</td>\n",
       "      <td>Normal</td>\n",
       "    </tr>\n",
       "    <tr>\n",
       "      <th>1</th>\n",
       "      <td>leslie terry</td>\n",
       "      <td>62</td>\n",
       "      <td>Male</td>\n",
       "      <td>A+</td>\n",
       "      <td>Obesity</td>\n",
       "      <td>2019-08-20</td>\n",
       "      <td>Samantha Davies</td>\n",
       "      <td>Kim Inc</td>\n",
       "      <td>Medicare</td>\n",
       "      <td>33643.327287</td>\n",
       "      <td>265</td>\n",
       "      <td>Emergency</td>\n",
       "      <td>2019-08-26</td>\n",
       "      <td>Ibuprofen</td>\n",
       "      <td>Inconclusive</td>\n",
       "    </tr>\n",
       "    <tr>\n",
       "      <th>2</th>\n",
       "      <td>danny smith</td>\n",
       "      <td>76</td>\n",
       "      <td>Female</td>\n",
       "      <td>A-</td>\n",
       "      <td>Obesity</td>\n",
       "      <td>2022-09-22</td>\n",
       "      <td>Tiffany Mitchell</td>\n",
       "      <td>Cook PLC</td>\n",
       "      <td>Aetna</td>\n",
       "      <td>27955.096079</td>\n",
       "      <td>205</td>\n",
       "      <td>Emergency</td>\n",
       "      <td>2022-10-07</td>\n",
       "      <td>Aspirin</td>\n",
       "      <td>Normal</td>\n",
       "    </tr>\n",
       "    <tr>\n",
       "      <th>3</th>\n",
       "      <td>andrew watts</td>\n",
       "      <td>28</td>\n",
       "      <td>Female</td>\n",
       "      <td>O+</td>\n",
       "      <td>Diabetes</td>\n",
       "      <td>2020-11-18</td>\n",
       "      <td>Kevin Wells</td>\n",
       "      <td>Hernandez Rogers and Vang,</td>\n",
       "      <td>Medicare</td>\n",
       "      <td>37909.782410</td>\n",
       "      <td>450</td>\n",
       "      <td>Elective</td>\n",
       "      <td>2020-12-18</td>\n",
       "      <td>Ibuprofen</td>\n",
       "      <td>Abnormal</td>\n",
       "    </tr>\n",
       "    <tr>\n",
       "      <th>4</th>\n",
       "      <td>adrienne bell</td>\n",
       "      <td>43</td>\n",
       "      <td>Female</td>\n",
       "      <td>AB+</td>\n",
       "      <td>Cancer</td>\n",
       "      <td>2022-09-19</td>\n",
       "      <td>Kathleen Hanna</td>\n",
       "      <td>White-White</td>\n",
       "      <td>Aetna</td>\n",
       "      <td>14238.317814</td>\n",
       "      <td>458</td>\n",
       "      <td>Urgent</td>\n",
       "      <td>2022-10-09</td>\n",
       "      <td>Penicillin</td>\n",
       "      <td>Abnormal</td>\n",
       "    </tr>\n",
       "  </tbody>\n",
       "</table>\n",
       "</div>"
      ],
      "text/plain": [
       "            Name  Age  Gender Blood Type Medical Condition Date of Admission  \\\n",
       "0  bobby jackson   30    Male         B-            Cancer        2024-01-31   \n",
       "1   leslie terry   62    Male         A+           Obesity        2019-08-20   \n",
       "2    danny smith   76  Female         A-           Obesity        2022-09-22   \n",
       "3   andrew watts   28  Female         O+          Diabetes        2020-11-18   \n",
       "4  adrienne bell   43  Female        AB+            Cancer        2022-09-19   \n",
       "\n",
       "             Doctor                    Hospital Insurance Provider  \\\n",
       "0     Matthew Smith             Sons and Miller         Blue Cross   \n",
       "1   Samantha Davies                     Kim Inc           Medicare   \n",
       "2  Tiffany Mitchell                    Cook PLC              Aetna   \n",
       "3       Kevin Wells  Hernandez Rogers and Vang,           Medicare   \n",
       "4    Kathleen Hanna                 White-White              Aetna   \n",
       "\n",
       "   Billing Amount  Room Number Admission Type Discharge Date   Medication  \\\n",
       "0    18856.281306          328         Urgent     2024-02-02  Paracetamol   \n",
       "1    33643.327287          265      Emergency     2019-08-26    Ibuprofen   \n",
       "2    27955.096079          205      Emergency     2022-10-07      Aspirin   \n",
       "3    37909.782410          450       Elective     2020-12-18    Ibuprofen   \n",
       "4    14238.317814          458         Urgent     2022-10-09   Penicillin   \n",
       "\n",
       "   Test Results  \n",
       "0        Normal  \n",
       "1  Inconclusive  \n",
       "2        Normal  \n",
       "3      Abnormal  \n",
       "4      Abnormal  "
      ]
     },
     "execution_count": 10,
     "metadata": {},
     "output_type": "execute_result"
    }
   ],
   "source": [
    "# Convertir la columna \"Name\" en minúsculas\n",
    "df['Name'] = df['Name'].str.lower()\n",
    "\n",
    "# Mostrar el DataFrame actualizado\n",
    "df.head()"
   ]
  },
  {
   "cell_type": "code",
   "execution_count": 11,
   "metadata": {},
   "outputs": [],
   "source": [
    "# Ahora convertimos las columnas \"Date of Admission\" y \n",
    "# \"Discharge Date\" a formato de fecha \"datetime\"\n",
    "\n",
    "df[\"Date of Admission\"] = pd.to_datetime(df['Date of Admission'])\n",
    "df[\"Discharge Date\"] = pd.to_datetime(df[\"Discharge Date\"])"
   ]
  },
  {
   "cell_type": "code",
   "execution_count": 12,
   "metadata": {},
   "outputs": [
    {
     "data": {
      "text/html": [
       "<div>\n",
       "<style scoped>\n",
       "    .dataframe tbody tr th:only-of-type {\n",
       "        vertical-align: middle;\n",
       "    }\n",
       "\n",
       "    .dataframe tbody tr th {\n",
       "        vertical-align: top;\n",
       "    }\n",
       "\n",
       "    .dataframe thead th {\n",
       "        text-align: right;\n",
       "    }\n",
       "</style>\n",
       "<table border=\"1\" class=\"dataframe\">\n",
       "  <thead>\n",
       "    <tr style=\"text-align: right;\">\n",
       "      <th></th>\n",
       "      <th>Age</th>\n",
       "      <th>Date of Admission</th>\n",
       "      <th>Billing Amount</th>\n",
       "      <th>Room Number</th>\n",
       "      <th>Discharge Date</th>\n",
       "    </tr>\n",
       "  </thead>\n",
       "  <tbody>\n",
       "    <tr>\n",
       "      <th>count</th>\n",
       "      <td>55500.000000</td>\n",
       "      <td>55500</td>\n",
       "      <td>55500.000000</td>\n",
       "      <td>55500.000000</td>\n",
       "      <td>55500</td>\n",
       "    </tr>\n",
       "    <tr>\n",
       "      <th>mean</th>\n",
       "      <td>51.539459</td>\n",
       "      <td>2021-11-01 01:02:22.443243008</td>\n",
       "      <td>25539.316097</td>\n",
       "      <td>301.134829</td>\n",
       "      <td>2021-11-16 13:15:20.821621504</td>\n",
       "    </tr>\n",
       "    <tr>\n",
       "      <th>min</th>\n",
       "      <td>13.000000</td>\n",
       "      <td>2019-05-08 00:00:00</td>\n",
       "      <td>-2008.492140</td>\n",
       "      <td>101.000000</td>\n",
       "      <td>2019-05-09 00:00:00</td>\n",
       "    </tr>\n",
       "    <tr>\n",
       "      <th>25%</th>\n",
       "      <td>35.000000</td>\n",
       "      <td>2020-07-28 00:00:00</td>\n",
       "      <td>13241.224652</td>\n",
       "      <td>202.000000</td>\n",
       "      <td>2020-08-12 00:00:00</td>\n",
       "    </tr>\n",
       "    <tr>\n",
       "      <th>50%</th>\n",
       "      <td>52.000000</td>\n",
       "      <td>2021-11-01 00:00:00</td>\n",
       "      <td>25538.069376</td>\n",
       "      <td>302.000000</td>\n",
       "      <td>2021-11-17 00:00:00</td>\n",
       "    </tr>\n",
       "    <tr>\n",
       "      <th>75%</th>\n",
       "      <td>68.000000</td>\n",
       "      <td>2023-02-03 00:00:00</td>\n",
       "      <td>37820.508436</td>\n",
       "      <td>401.000000</td>\n",
       "      <td>2023-02-18 00:00:00</td>\n",
       "    </tr>\n",
       "    <tr>\n",
       "      <th>max</th>\n",
       "      <td>89.000000</td>\n",
       "      <td>2024-05-07 00:00:00</td>\n",
       "      <td>52764.276736</td>\n",
       "      <td>500.000000</td>\n",
       "      <td>2024-06-06 00:00:00</td>\n",
       "    </tr>\n",
       "    <tr>\n",
       "      <th>std</th>\n",
       "      <td>19.602454</td>\n",
       "      <td>NaN</td>\n",
       "      <td>14211.454431</td>\n",
       "      <td>115.243069</td>\n",
       "      <td>NaN</td>\n",
       "    </tr>\n",
       "  </tbody>\n",
       "</table>\n",
       "</div>"
      ],
      "text/plain": [
       "                Age              Date of Admission  Billing Amount  \\\n",
       "count  55500.000000                          55500    55500.000000   \n",
       "mean      51.539459  2021-11-01 01:02:22.443243008    25539.316097   \n",
       "min       13.000000            2019-05-08 00:00:00    -2008.492140   \n",
       "25%       35.000000            2020-07-28 00:00:00    13241.224652   \n",
       "50%       52.000000            2021-11-01 00:00:00    25538.069376   \n",
       "75%       68.000000            2023-02-03 00:00:00    37820.508436   \n",
       "max       89.000000            2024-05-07 00:00:00    52764.276736   \n",
       "std       19.602454                            NaN    14211.454431   \n",
       "\n",
       "        Room Number                 Discharge Date  \n",
       "count  55500.000000                          55500  \n",
       "mean     301.134829  2021-11-16 13:15:20.821621504  \n",
       "min      101.000000            2019-05-09 00:00:00  \n",
       "25%      202.000000            2020-08-12 00:00:00  \n",
       "50%      302.000000            2021-11-17 00:00:00  \n",
       "75%      401.000000            2023-02-18 00:00:00  \n",
       "max      500.000000            2024-06-06 00:00:00  \n",
       "std      115.243069                            NaN  "
      ]
     },
     "execution_count": 12,
     "metadata": {},
     "output_type": "execute_result"
    }
   ],
   "source": [
    "df.describe()"
   ]
  },
  {
   "cell_type": "code",
   "execution_count": 13,
   "metadata": {},
   "outputs": [
    {
     "data": {
      "text/html": [
       "<div>\n",
       "<style scoped>\n",
       "    .dataframe tbody tr th:only-of-type {\n",
       "        vertical-align: middle;\n",
       "    }\n",
       "\n",
       "    .dataframe tbody tr th {\n",
       "        vertical-align: top;\n",
       "    }\n",
       "\n",
       "    .dataframe thead th {\n",
       "        text-align: right;\n",
       "    }\n",
       "</style>\n",
       "<table border=\"1\" class=\"dataframe\">\n",
       "  <thead>\n",
       "    <tr style=\"text-align: right;\">\n",
       "      <th></th>\n",
       "      <th>count</th>\n",
       "      <th>unique</th>\n",
       "      <th>top</th>\n",
       "      <th>freq</th>\n",
       "    </tr>\n",
       "  </thead>\n",
       "  <tbody>\n",
       "    <tr>\n",
       "      <th>Name</th>\n",
       "      <td>55500</td>\n",
       "      <td>40235</td>\n",
       "      <td>michael williams</td>\n",
       "      <td>24</td>\n",
       "    </tr>\n",
       "    <tr>\n",
       "      <th>Gender</th>\n",
       "      <td>55500</td>\n",
       "      <td>2</td>\n",
       "      <td>Male</td>\n",
       "      <td>27774</td>\n",
       "    </tr>\n",
       "    <tr>\n",
       "      <th>Blood Type</th>\n",
       "      <td>55500</td>\n",
       "      <td>8</td>\n",
       "      <td>A-</td>\n",
       "      <td>6969</td>\n",
       "    </tr>\n",
       "    <tr>\n",
       "      <th>Medical Condition</th>\n",
       "      <td>55500</td>\n",
       "      <td>6</td>\n",
       "      <td>Arthritis</td>\n",
       "      <td>9308</td>\n",
       "    </tr>\n",
       "    <tr>\n",
       "      <th>Doctor</th>\n",
       "      <td>55500</td>\n",
       "      <td>40341</td>\n",
       "      <td>Michael Smith</td>\n",
       "      <td>27</td>\n",
       "    </tr>\n",
       "    <tr>\n",
       "      <th>Hospital</th>\n",
       "      <td>55500</td>\n",
       "      <td>39876</td>\n",
       "      <td>LLC Smith</td>\n",
       "      <td>44</td>\n",
       "    </tr>\n",
       "    <tr>\n",
       "      <th>Insurance Provider</th>\n",
       "      <td>55500</td>\n",
       "      <td>5</td>\n",
       "      <td>Cigna</td>\n",
       "      <td>11249</td>\n",
       "    </tr>\n",
       "    <tr>\n",
       "      <th>Admission Type</th>\n",
       "      <td>55500</td>\n",
       "      <td>3</td>\n",
       "      <td>Elective</td>\n",
       "      <td>18655</td>\n",
       "    </tr>\n",
       "    <tr>\n",
       "      <th>Medication</th>\n",
       "      <td>55500</td>\n",
       "      <td>5</td>\n",
       "      <td>Lipitor</td>\n",
       "      <td>11140</td>\n",
       "    </tr>\n",
       "    <tr>\n",
       "      <th>Test Results</th>\n",
       "      <td>55500</td>\n",
       "      <td>3</td>\n",
       "      <td>Abnormal</td>\n",
       "      <td>18627</td>\n",
       "    </tr>\n",
       "  </tbody>\n",
       "</table>\n",
       "</div>"
      ],
      "text/plain": [
       "                    count unique               top   freq\n",
       "Name                55500  40235  michael williams     24\n",
       "Gender              55500      2              Male  27774\n",
       "Blood Type          55500      8                A-   6969\n",
       "Medical Condition   55500      6         Arthritis   9308\n",
       "Doctor              55500  40341     Michael Smith     27\n",
       "Hospital            55500  39876         LLC Smith     44\n",
       "Insurance Provider  55500      5             Cigna  11249\n",
       "Admission Type      55500      3          Elective  18655\n",
       "Medication          55500      5           Lipitor  11140\n",
       "Test Results        55500      3          Abnormal  18627"
      ]
     },
     "execution_count": 13,
     "metadata": {},
     "output_type": "execute_result"
    }
   ],
   "source": [
    "df.describe(include=\"object\").T"
   ]
  },
  {
   "cell_type": "code",
   "execution_count": 14,
   "metadata": {},
   "outputs": [
    {
     "data": {
      "text/plain": [
       "Gender\n",
       "Male      27774\n",
       "Female    27726\n",
       "Name: count, dtype: int64"
      ]
     },
     "execution_count": 14,
     "metadata": {},
     "output_type": "execute_result"
    }
   ],
   "source": [
    "df[\"Gender\"].value_counts()"
   ]
  },
  {
   "cell_type": "code",
   "execution_count": 15,
   "metadata": {},
   "outputs": [
    {
     "name": "stdout",
     "output_type": "stream",
     "text": [
      "Blood Type\n",
      "A-     6969\n",
      "A+     6956\n",
      "AB+    6947\n",
      "AB-    6945\n",
      "B+     6945\n",
      "B-     6944\n",
      "O+     6917\n",
      "O-     6877\n",
      "Name: count, dtype: int64\n"
     ]
    }
   ],
   "source": [
    "print(df[\"Blood Type\"].value_counts())"
   ]
  },
  {
   "cell_type": "code",
   "execution_count": 16,
   "metadata": {},
   "outputs": [
    {
     "data": {
      "application/vnd.plotly.v1+json": {
       "config": {
        "plotlyServerURL": "https://plot.ly"
       },
       "data": [
        {
         "bingroup": "x",
         "hovertemplate": "Age=%{x}<br>count=%{y}<extra></extra>",
         "legendgroup": "",
         "marker": {
          "color": "#636efa",
          "pattern": {
           "shape": ""
          }
         },
         "name": "",
         "nbinsx": 30,
         "orientation": "v",
         "showlegend": false,
         "type": "histogram",
         "x": {
          "bdata": "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",
          "dtype": "i1"
         },
         "xaxis": "x",
         "yaxis": "y"
        }
       ],
       "layout": {
        "barmode": "relative",
        "legend": {
         "tracegroupgap": 0
        },
        "template": {
         "data": {
          "bar": [
           {
            "error_x": {
             "color": "#2a3f5f"
            },
            "error_y": {
             "color": "#2a3f5f"
            },
            "marker": {
             "line": {
              "color": "#E5ECF6",
              "width": 0.5
             },
             "pattern": {
              "fillmode": "overlay",
              "size": 10,
              "solidity": 0.2
             }
            },
            "type": "bar"
           }
          ],
          "barpolar": [
           {
            "marker": {
             "line": {
              "color": "#E5ECF6",
              "width": 0.5
             },
             "pattern": {
              "fillmode": "overlay",
              "size": 10,
              "solidity": 0.2
             }
            },
            "type": "barpolar"
           }
          ],
          "carpet": [
           {
            "aaxis": {
             "endlinecolor": "#2a3f5f",
             "gridcolor": "white",
             "linecolor": "white",
             "minorgridcolor": "white",
             "startlinecolor": "#2a3f5f"
            },
            "baxis": {
             "endlinecolor": "#2a3f5f",
             "gridcolor": "white",
             "linecolor": "white",
             "minorgridcolor": "white",
             "startlinecolor": "#2a3f5f"
            },
            "type": "carpet"
           }
          ],
          "choropleth": [
           {
            "colorbar": {
             "outlinewidth": 0,
             "ticks": ""
            },
            "type": "choropleth"
           }
          ],
          "contour": [
           {
            "colorbar": {
             "outlinewidth": 0,
             "ticks": ""
            },
            "colorscale": [
             [
              0,
              "#0d0887"
             ],
             [
              0.1111111111111111,
              "#46039f"
             ],
             [
              0.2222222222222222,
              "#7201a8"
             ],
             [
              0.3333333333333333,
              "#9c179e"
             ],
             [
              0.4444444444444444,
              "#bd3786"
             ],
             [
              0.5555555555555556,
              "#d8576b"
             ],
             [
              0.6666666666666666,
              "#ed7953"
             ],
             [
              0.7777777777777778,
              "#fb9f3a"
             ],
             [
              0.8888888888888888,
              "#fdca26"
             ],
             [
              1,
              "#f0f921"
             ]
            ],
            "type": "contour"
           }
          ],
          "contourcarpet": [
           {
            "colorbar": {
             "outlinewidth": 0,
             "ticks": ""
            },
            "type": "contourcarpet"
           }
          ],
          "heatmap": [
           {
            "colorbar": {
             "outlinewidth": 0,
             "ticks": ""
            },
            "colorscale": [
             [
              0,
              "#0d0887"
             ],
             [
              0.1111111111111111,
              "#46039f"
             ],
             [
              0.2222222222222222,
              "#7201a8"
             ],
             [
              0.3333333333333333,
              "#9c179e"
             ],
             [
              0.4444444444444444,
              "#bd3786"
             ],
             [
              0.5555555555555556,
              "#d8576b"
             ],
             [
              0.6666666666666666,
              "#ed7953"
             ],
             [
              0.7777777777777778,
              "#fb9f3a"
             ],
             [
              0.8888888888888888,
              "#fdca26"
             ],
             [
              1,
              "#f0f921"
             ]
            ],
            "type": "heatmap"
           }
          ],
          "histogram": [
           {
            "marker": {
             "pattern": {
              "fillmode": "overlay",
              "size": 10,
              "solidity": 0.2
             }
            },
            "type": "histogram"
           }
          ],
          "histogram2d": [
           {
            "colorbar": {
             "outlinewidth": 0,
             "ticks": ""
            },
            "colorscale": [
             [
              0,
              "#0d0887"
             ],
             [
              0.1111111111111111,
              "#46039f"
             ],
             [
              0.2222222222222222,
              "#7201a8"
             ],
             [
              0.3333333333333333,
              "#9c179e"
             ],
             [
              0.4444444444444444,
              "#bd3786"
             ],
             [
              0.5555555555555556,
              "#d8576b"
             ],
             [
              0.6666666666666666,
              "#ed7953"
             ],
             [
              0.7777777777777778,
              "#fb9f3a"
             ],
             [
              0.8888888888888888,
              "#fdca26"
             ],
             [
              1,
              "#f0f921"
             ]
            ],
            "type": "histogram2d"
           }
          ],
          "histogram2dcontour": [
           {
            "colorbar": {
             "outlinewidth": 0,
             "ticks": ""
            },
            "colorscale": [
             [
              0,
              "#0d0887"
             ],
             [
              0.1111111111111111,
              "#46039f"
             ],
             [
              0.2222222222222222,
              "#7201a8"
             ],
             [
              0.3333333333333333,
              "#9c179e"
             ],
             [
              0.4444444444444444,
              "#bd3786"
             ],
             [
              0.5555555555555556,
              "#d8576b"
             ],
             [
              0.6666666666666666,
              "#ed7953"
             ],
             [
              0.7777777777777778,
              "#fb9f3a"
             ],
             [
              0.8888888888888888,
              "#fdca26"
             ],
             [
              1,
              "#f0f921"
             ]
            ],
            "type": "histogram2dcontour"
           }
          ],
          "mesh3d": [
           {
            "colorbar": {
             "outlinewidth": 0,
             "ticks": ""
            },
            "type": "mesh3d"
           }
          ],
          "parcoords": [
           {
            "line": {
             "colorbar": {
              "outlinewidth": 0,
              "ticks": ""
             }
            },
            "type": "parcoords"
           }
          ],
          "pie": [
           {
            "automargin": true,
            "type": "pie"
           }
          ],
          "scatter": [
           {
            "fillpattern": {
             "fillmode": "overlay",
             "size": 10,
             "solidity": 0.2
            },
            "type": "scatter"
           }
          ],
          "scatter3d": [
           {
            "line": {
             "colorbar": {
              "outlinewidth": 0,
              "ticks": ""
             }
            },
            "marker": {
             "colorbar": {
              "outlinewidth": 0,
              "ticks": ""
             }
            },
            "type": "scatter3d"
           }
          ],
          "scattercarpet": [
           {
            "marker": {
             "colorbar": {
              "outlinewidth": 0,
              "ticks": ""
             }
            },
            "type": "scattercarpet"
           }
          ],
          "scattergeo": [
           {
            "marker": {
             "colorbar": {
              "outlinewidth": 0,
              "ticks": ""
             }
            },
            "type": "scattergeo"
           }
          ],
          "scattergl": [
           {
            "marker": {
             "colorbar": {
              "outlinewidth": 0,
              "ticks": ""
             }
            },
            "type": "scattergl"
           }
          ],
          "scattermap": [
           {
            "marker": {
             "colorbar": {
              "outlinewidth": 0,
              "ticks": ""
             }
            },
            "type": "scattermap"
           }
          ],
          "scattermapbox": [
           {
            "marker": {
             "colorbar": {
              "outlinewidth": 0,
              "ticks": ""
             }
            },
            "type": "scattermapbox"
           }
          ],
          "scatterpolar": [
           {
            "marker": {
             "colorbar": {
              "outlinewidth": 0,
              "ticks": ""
             }
            },
            "type": "scatterpolar"
           }
          ],
          "scatterpolargl": [
           {
            "marker": {
             "colorbar": {
              "outlinewidth": 0,
              "ticks": ""
             }
            },
            "type": "scatterpolargl"
           }
          ],
          "scatterternary": [
           {
            "marker": {
             "colorbar": {
              "outlinewidth": 0,
              "ticks": ""
             }
            },
            "type": "scatterternary"
           }
          ],
          "surface": [
           {
            "colorbar": {
             "outlinewidth": 0,
             "ticks": ""
            },
            "colorscale": [
             [
              0,
              "#0d0887"
             ],
             [
              0.1111111111111111,
              "#46039f"
             ],
             [
              0.2222222222222222,
              "#7201a8"
             ],
             [
              0.3333333333333333,
              "#9c179e"
             ],
             [
              0.4444444444444444,
              "#bd3786"
             ],
             [
              0.5555555555555556,
              "#d8576b"
             ],
             [
              0.6666666666666666,
              "#ed7953"
             ],
             [
              0.7777777777777778,
              "#fb9f3a"
             ],
             [
              0.8888888888888888,
              "#fdca26"
             ],
             [
              1,
              "#f0f921"
             ]
            ],
            "type": "surface"
           }
          ],
          "table": [
           {
            "cells": {
             "fill": {
              "color": "#EBF0F8"
             },
             "line": {
              "color": "white"
             }
            },
            "header": {
             "fill": {
              "color": "#C8D4E3"
             },
             "line": {
              "color": "white"
             }
            },
            "type": "table"
           }
          ]
         },
         "layout": {
          "annotationdefaults": {
           "arrowcolor": "#2a3f5f",
           "arrowhead": 0,
           "arrowwidth": 1
          },
          "autotypenumbers": "strict",
          "coloraxis": {
           "colorbar": {
            "outlinewidth": 0,
            "ticks": ""
           }
          },
          "colorscale": {
           "diverging": [
            [
             0,
             "#8e0152"
            ],
            [
             0.1,
             "#c51b7d"
            ],
            [
             0.2,
             "#de77ae"
            ],
            [
             0.3,
             "#f1b6da"
            ],
            [
             0.4,
             "#fde0ef"
            ],
            [
             0.5,
             "#f7f7f7"
            ],
            [
             0.6,
             "#e6f5d0"
            ],
            [
             0.7,
             "#b8e186"
            ],
            [
             0.8,
             "#7fbc41"
            ],
            [
             0.9,
             "#4d9221"
            ],
            [
             1,
             "#276419"
            ]
           ],
           "sequential": [
            [
             0,
             "#0d0887"
            ],
            [
             0.1111111111111111,
             "#46039f"
            ],
            [
             0.2222222222222222,
             "#7201a8"
            ],
            [
             0.3333333333333333,
             "#9c179e"
            ],
            [
             0.4444444444444444,
             "#bd3786"
            ],
            [
             0.5555555555555556,
             "#d8576b"
            ],
            [
             0.6666666666666666,
             "#ed7953"
            ],
            [
             0.7777777777777778,
             "#fb9f3a"
            ],
            [
             0.8888888888888888,
             "#fdca26"
            ],
            [
             1,
             "#f0f921"
            ]
           ],
           "sequentialminus": [
            [
             0,
             "#0d0887"
            ],
            [
             0.1111111111111111,
             "#46039f"
            ],
            [
             0.2222222222222222,
             "#7201a8"
            ],
            [
             0.3333333333333333,
             "#9c179e"
            ],
            [
             0.4444444444444444,
             "#bd3786"
            ],
            [
             0.5555555555555556,
             "#d8576b"
            ],
            [
             0.6666666666666666,
             "#ed7953"
            ],
            [
             0.7777777777777778,
             "#fb9f3a"
            ],
            [
             0.8888888888888888,
             "#fdca26"
            ],
            [
             1,
             "#f0f921"
            ]
           ]
          },
          "colorway": [
           "#636efa",
           "#EF553B",
           "#00cc96",
           "#ab63fa",
           "#FFA15A",
           "#19d3f3",
           "#FF6692",
           "#B6E880",
           "#FF97FF",
           "#FECB52"
          ],
          "font": {
           "color": "#2a3f5f"
          },
          "geo": {
           "bgcolor": "white",
           "lakecolor": "white",
           "landcolor": "#E5ECF6",
           "showlakes": true,
           "showland": true,
           "subunitcolor": "white"
          },
          "hoverlabel": {
           "align": "left"
          },
          "hovermode": "closest",
          "mapbox": {
           "style": "light"
          },
          "paper_bgcolor": "white",
          "plot_bgcolor": "#E5ECF6",
          "polar": {
           "angularaxis": {
            "gridcolor": "white",
            "linecolor": "white",
            "ticks": ""
           },
           "bgcolor": "#E5ECF6",
           "radialaxis": {
            "gridcolor": "white",
            "linecolor": "white",
            "ticks": ""
           }
          },
          "scene": {
           "xaxis": {
            "backgroundcolor": "#E5ECF6",
            "gridcolor": "white",
            "gridwidth": 2,
            "linecolor": "white",
            "showbackground": true,
            "ticks": "",
            "zerolinecolor": "white"
           },
           "yaxis": {
            "backgroundcolor": "#E5ECF6",
            "gridcolor": "white",
            "gridwidth": 2,
            "linecolor": "white",
            "showbackground": true,
            "ticks": "",
            "zerolinecolor": "white"
           },
           "zaxis": {
            "backgroundcolor": "#E5ECF6",
            "gridcolor": "white",
            "gridwidth": 2,
            "linecolor": "white",
            "showbackground": true,
            "ticks": "",
            "zerolinecolor": "white"
           }
          },
          "shapedefaults": {
           "line": {
            "color": "#2a3f5f"
           }
          },
          "ternary": {
           "aaxis": {
            "gridcolor": "white",
            "linecolor": "white",
            "ticks": ""
           },
           "baxis": {
            "gridcolor": "white",
            "linecolor": "white",
            "ticks": ""
           },
           "bgcolor": "#E5ECF6",
           "caxis": {
            "gridcolor": "white",
            "linecolor": "white",
            "ticks": ""
           }
          },
          "title": {
           "x": 0.05
          },
          "xaxis": {
           "automargin": true,
           "gridcolor": "white",
           "linecolor": "white",
           "ticks": "",
           "title": {
            "standoff": 15
           },
           "zerolinecolor": "white",
           "zerolinewidth": 2
          },
          "yaxis": {
           "automargin": true,
           "gridcolor": "white",
           "linecolor": "white",
           "ticks": "",
           "title": {
            "standoff": 15
           },
           "zerolinecolor": "white",
           "zerolinewidth": 2
          }
         }
        },
        "title": {
         "text": "Distribución de edades"
        },
        "xaxis": {
         "anchor": "y",
         "domain": [
          0,
          1
         ],
         "title": {
          "text": "Age"
         }
        },
        "yaxis": {
         "anchor": "x",
         "domain": [
          0,
          1
         ],
         "title": {
          "text": "count"
         }
        }
       }
      }
     },
     "metadata": {},
     "output_type": "display_data"
    }
   ],
   "source": [
    "fig = px.histogram(df, x=\"Age\", title=\"Distribución de edades\", nbins=30)\n",
    "fig.show()"
   ]
  },
  {
   "cell_type": "code",
   "execution_count": null,
   "metadata": {},
   "outputs": [],
   "source": []
  }
 ],
 "metadata": {
  "kernelspec": {
   "display_name": "Python 3",
   "language": "python",
   "name": "python3"
  },
  "language_info": {
   "codemirror_mode": {
    "name": "ipython",
    "version": 3
   },
   "file_extension": ".py",
   "mimetype": "text/x-python",
   "name": "python",
   "nbconvert_exporter": "python",
   "pygments_lexer": "ipython3",
   "version": "3.9.20"
  },
  "widgets": {
   "application/vnd.jupyter.widget-state+json": {
    "state": {},
    "version_major": 2,
    "version_minor": 0
   }
  }
 },
 "nbformat": 4,
 "nbformat_minor": 4
}
